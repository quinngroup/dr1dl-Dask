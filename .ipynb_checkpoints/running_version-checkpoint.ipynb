{
 "cells": [
  {
   "cell_type": "code",
   "execution_count": 1,
   "metadata": {},
   "outputs": [],
   "source": [
    "import functools\n",
    "import numpy as np\n",
    "import os.path\n",
    "import scipy.linalg as sla\n",
    "import sys\n",
    "import datetime\n",
    "import os\n",
    "import psutil\n",
    "\n",
    "from dask.distributed import Client\n",
    "import dask.array as da\n",
    "\n",
    "from sklearn.datasets import make_sparse_coded_signal"
   ]
  },
  {
   "cell_type": "code",
   "execution_count": 16,
   "metadata": {},
   "outputs": [],
   "source": [
    "#Inputs\n",
    "'''\n",
    "These inputs were copied from the pyspark version.\n",
    "I may not need all of these.\n",
    "\n",
    "'''\n",
    "\n",
    "\n",
    "input_data = ''\n",
    "T = 20 #Rows\n",
    "P = 20 #Cols\n",
    "\n",
    "#Optional\n",
    "R = int(0.07 * P) #Enforces sparcity \n",
    "M = 5 #Dimensionality of the learned dictionary\n",
    "E = 0.01 #Epsilon\n",
    "norm = True\n",
    "\n",
    "\n",
    "#Spark Options, look for similar Dask elements\n",
    "partitions = 4*4\n",
    "execmem = '8g'\n",
    "\n",
    "#Outputs\n",
    "d = ''\n",
    "z = ''\n",
    "prefix = False"
   ]
  },
  {
   "cell_type": "code",
   "execution_count": 5,
   "metadata": {},
   "outputs": [],
   "source": [
    "client = Client()"
   ]
  },
  {
   "cell_type": "code",
   "execution_count": 19,
   "metadata": {},
   "outputs": [],
   "source": [
    "S, D, SV = make_sparse_coded_signal(1,T,P,int(R*P))\n",
    "\n",
    "u_new = da.zeros(T)\n",
    "v = da.zeros(P)\n",
    "\n",
    "max_iterations = P*10\n"
   ]
  },
  {
   "cell_type": "code",
   "execution_count": 14,
   "metadata": {},
   "outputs": [
    {
     "ename": "NameError",
     "evalue": "name 'S' is not defined",
     "output_type": "error",
     "traceback": [
      "\u001b[0;31m---------------------------------------------------------------------------\u001b[0m",
      "\u001b[0;31mNameError\u001b[0m                                 Traceback (most recent call last)",
      "\u001b[0;32m<ipython-input-14-963dab50ab0a>\u001b[0m in \u001b[0;36m<module>\u001b[0;34m\u001b[0m\n\u001b[1;32m      7\u001b[0m \u001b[0;34m\u001b[0m\u001b[0m\n\u001b[1;32m      8\u001b[0m     \u001b[0;32mwhile\u001b[0m \u001b[0mnum_iterations\u001b[0m \u001b[0;34m<\u001b[0m \u001b[0mmax_iterations\u001b[0m \u001b[0;32mand\u001b[0m \u001b[0mdelta\u001b[0m \u001b[0;34m>\u001b[0m \u001b[0mE\u001b[0m\u001b[0;34m:\u001b[0m\u001b[0;34m\u001b[0m\u001b[0;34m\u001b[0m\u001b[0m\n\u001b[0;32m----> 9\u001b[0;31m         \u001b[0mv\u001b[0m \u001b[0;34m=\u001b[0m \u001b[0mS\u001b[0m\u001b[0;34m\u001b[0m\u001b[0;34m\u001b[0m\u001b[0m\n\u001b[0m",
      "\u001b[0;31mNameError\u001b[0m: name 'S' is not defined"
     ]
    }
   ],
   "source": [
    "for m in range(M):\n",
    "    seed = np.random.randint(max_iterations +1, high = 4294967295)\n",
    "    np.random.seed(seed) \n",
    "    u_old = da.random.random(T)\n",
    "    num_iterations = 0\n",
    "    delta = 2*E\n",
    "    \n",
    "    while num_iterations < max_iterations and delta > E:\n",
    "        \n",
    "        #Can i do this slightly different in Dask?\n",
    "        if num_iterations > 0:\n",
    "            _U_ = client.scatter(u_old, broadcast=True)\n",
    "        else:\n",
    "            _U_ = client.scatter((T,seed), broadcast=True)\n",
    "        \n",
    "        if type(_U_) == tuple:\n",
    "            T, seed = _U_\n",
    "            #Finish this\n",
    "            \n",
    "        v = da.dot(_U_,S).compute() #Can I delay? \n",
    "        \n",
    "\n",
    "        v = np.take(sorted(v), indices = 1, axis = 1) #I dont think this is neccessary?\n",
    "\n",
    "        # Use our previous method to select the top R.\n",
    "        indices = np.sort(select_topr(v, R))\n",
    "        sv = SparseVector(P, indices, v[indices])\n",
    "\n",
    "        # Broadcast the sparse vector.\n",
    "        _V_ = client.scatter(sv,broadcast=True)\n",
    "\n",
    "        # P1: Matrix-vector multiplication step. Computes u.\n",
    "        u_new = da.dot(S,_V_)\n",
    "        u_new = np.take(sorted(u_new), indices = 1, axis = 1)\n",
    "\n",
    "        # Subtract off the mean and normalize.\n",
    "        u_new -= u_new.mean()\n",
    "        u_new /= da.linalg.norm(u_new)\n",
    "        u_new.compute()\n",
    "        \n",
    "        # Update for the next iteration.\n",
    "        delta = da.linalg.norm(u_old - u_new).compute()\n",
    "        u_old = u_new\n",
    "        num_iterations += 1"
   ]
  },
  {
   "cell_type": "code",
   "execution_count": 15,
   "metadata": {},
   "outputs": [],
   "source": [
    "import sparse"
   ]
  },
  {
   "cell_type": "code",
   "execution_count": 24,
   "metadata": {},
   "outputs": [],
   "source": [
    "x = da.random.random((100000,100000))\n",
    "x[x<0.95] = 0\n",
    "s = x.map_blocks(sparse.COO).compute()"
   ]
  },
  {
   "cell_type": "code",
   "execution_count": 21,
   "metadata": {},
   "outputs": [
    {
     "data": {
      "text/html": [
       "<table>\n",
       "<tr>\n",
       "<td>\n",
       "<table>\n",
       "  <thead>\n",
       "    <tr><td> </td><th> Array </th><th> Chunk </th></tr>\n",
       "  </thead>\n",
       "  <tbody>\n",
       "    <tr><th> Bytes </th><td> 80.00 GB </td> <td> 128.00 MB </td></tr>\n",
       "    <tr><th> Shape </th><td> (100000, 100000) </td> <td> (4000, 4000) </td></tr>\n",
       "    <tr><th> Count </th><td> 2500 Tasks </td><td> 625 Chunks </td></tr>\n",
       "    <tr><th> Type </th><td> float64 </td><td> sparse.COO </td></tr>\n",
       "  </tbody>\n",
       "</table>\n",
       "</td>\n",
       "<td>\n",
       "<svg width=\"170\" height=\"170\" style=\"stroke:rgb(0,0,0);stroke-width:1\" >\n",
       "\n",
       "  <!-- Horizontal lines -->\n",
       "  <line x1=\"0\" y1=\"0\" x2=\"120\" y2=\"0\" style=\"stroke-width:2\" />\n",
       "  <line x1=\"0\" y1=\"4\" x2=\"120\" y2=\"4\" />\n",
       "  <line x1=\"0\" y1=\"9\" x2=\"120\" y2=\"9\" />\n",
       "  <line x1=\"0\" y1=\"14\" x2=\"120\" y2=\"14\" />\n",
       "  <line x1=\"0\" y1=\"19\" x2=\"120\" y2=\"19\" />\n",
       "  <line x1=\"0\" y1=\"24\" x2=\"120\" y2=\"24\" />\n",
       "  <line x1=\"0\" y1=\"28\" x2=\"120\" y2=\"28\" />\n",
       "  <line x1=\"0\" y1=\"33\" x2=\"120\" y2=\"33\" />\n",
       "  <line x1=\"0\" y1=\"38\" x2=\"120\" y2=\"38\" />\n",
       "  <line x1=\"0\" y1=\"43\" x2=\"120\" y2=\"43\" />\n",
       "  <line x1=\"0\" y1=\"48\" x2=\"120\" y2=\"48\" />\n",
       "  <line x1=\"0\" y1=\"52\" x2=\"120\" y2=\"52\" />\n",
       "  <line x1=\"0\" y1=\"57\" x2=\"120\" y2=\"57\" />\n",
       "  <line x1=\"0\" y1=\"62\" x2=\"120\" y2=\"62\" />\n",
       "  <line x1=\"0\" y1=\"67\" x2=\"120\" y2=\"67\" />\n",
       "  <line x1=\"0\" y1=\"72\" x2=\"120\" y2=\"72\" />\n",
       "  <line x1=\"0\" y1=\"76\" x2=\"120\" y2=\"76\" />\n",
       "  <line x1=\"0\" y1=\"81\" x2=\"120\" y2=\"81\" />\n",
       "  <line x1=\"0\" y1=\"86\" x2=\"120\" y2=\"86\" />\n",
       "  <line x1=\"0\" y1=\"91\" x2=\"120\" y2=\"91\" />\n",
       "  <line x1=\"0\" y1=\"96\" x2=\"120\" y2=\"96\" />\n",
       "  <line x1=\"0\" y1=\"100\" x2=\"120\" y2=\"100\" />\n",
       "  <line x1=\"0\" y1=\"105\" x2=\"120\" y2=\"105\" />\n",
       "  <line x1=\"0\" y1=\"110\" x2=\"120\" y2=\"110\" />\n",
       "  <line x1=\"0\" y1=\"115\" x2=\"120\" y2=\"115\" />\n",
       "  <line x1=\"0\" y1=\"120\" x2=\"120\" y2=\"120\" style=\"stroke-width:2\" />\n",
       "\n",
       "  <!-- Vertical lines -->\n",
       "  <line x1=\"0\" y1=\"0\" x2=\"0\" y2=\"120\" style=\"stroke-width:2\" />\n",
       "  <line x1=\"4\" y1=\"0\" x2=\"4\" y2=\"120\" />\n",
       "  <line x1=\"9\" y1=\"0\" x2=\"9\" y2=\"120\" />\n",
       "  <line x1=\"14\" y1=\"0\" x2=\"14\" y2=\"120\" />\n",
       "  <line x1=\"19\" y1=\"0\" x2=\"19\" y2=\"120\" />\n",
       "  <line x1=\"24\" y1=\"0\" x2=\"24\" y2=\"120\" />\n",
       "  <line x1=\"28\" y1=\"0\" x2=\"28\" y2=\"120\" />\n",
       "  <line x1=\"33\" y1=\"0\" x2=\"33\" y2=\"120\" />\n",
       "  <line x1=\"38\" y1=\"0\" x2=\"38\" y2=\"120\" />\n",
       "  <line x1=\"43\" y1=\"0\" x2=\"43\" y2=\"120\" />\n",
       "  <line x1=\"48\" y1=\"0\" x2=\"48\" y2=\"120\" />\n",
       "  <line x1=\"52\" y1=\"0\" x2=\"52\" y2=\"120\" />\n",
       "  <line x1=\"57\" y1=\"0\" x2=\"57\" y2=\"120\" />\n",
       "  <line x1=\"62\" y1=\"0\" x2=\"62\" y2=\"120\" />\n",
       "  <line x1=\"67\" y1=\"0\" x2=\"67\" y2=\"120\" />\n",
       "  <line x1=\"72\" y1=\"0\" x2=\"72\" y2=\"120\" />\n",
       "  <line x1=\"76\" y1=\"0\" x2=\"76\" y2=\"120\" />\n",
       "  <line x1=\"81\" y1=\"0\" x2=\"81\" y2=\"120\" />\n",
       "  <line x1=\"86\" y1=\"0\" x2=\"86\" y2=\"120\" />\n",
       "  <line x1=\"91\" y1=\"0\" x2=\"91\" y2=\"120\" />\n",
       "  <line x1=\"96\" y1=\"0\" x2=\"96\" y2=\"120\" />\n",
       "  <line x1=\"100\" y1=\"0\" x2=\"100\" y2=\"120\" />\n",
       "  <line x1=\"105\" y1=\"0\" x2=\"105\" y2=\"120\" />\n",
       "  <line x1=\"110\" y1=\"0\" x2=\"110\" y2=\"120\" />\n",
       "  <line x1=\"115\" y1=\"0\" x2=\"115\" y2=\"120\" />\n",
       "  <line x1=\"120\" y1=\"0\" x2=\"120\" y2=\"120\" style=\"stroke-width:2\" />\n",
       "\n",
       "  <!-- Colored Rectangle -->\n",
       "  <polygon points=\"0.000000,0.000000 120.000000,0.000000 120.000000,120.000000 0.000000,120.000000\" style=\"fill:#ECB172A0;stroke-width:0\"/>\n",
       "\n",
       "  <!-- Text -->\n",
       "  <text x=\"60.000000\" y=\"140.000000\" font-size=\"1.0rem\" font-weight=\"100\" text-anchor=\"middle\" >100000</text>\n",
       "  <text x=\"140.000000\" y=\"60.000000\" font-size=\"1.0rem\" font-weight=\"100\" text-anchor=\"middle\" transform=\"rotate(-90,140.000000,60.000000)\">100000</text>\n",
       "</svg>\n",
       "</td>\n",
       "</tr>\n",
       "</table>"
      ],
      "text/plain": [
       "dask.array<COO, shape=(100000, 100000), dtype=float64, chunksize=(4000, 4000), chunktype=sparse.COO>"
      ]
     },
     "execution_count": 21,
     "metadata": {},
     "output_type": "execute_result"
    }
   ],
   "source": [
    "s"
   ]
  },
  {
   "cell_type": "code",
   "execution_count": null,
   "metadata": {},
   "outputs": [],
   "source": []
  }
 ],
 "metadata": {
  "kernelspec": {
   "display_name": "Python 3",
   "language": "python",
   "name": "python3"
  },
  "language_info": {
   "codemirror_mode": {
    "name": "ipython",
    "version": 3
   },
   "file_extension": ".py",
   "mimetype": "text/x-python",
   "name": "python",
   "nbconvert_exporter": "python",
   "pygments_lexer": "ipython3",
   "version": "3.7.4"
  }
 },
 "nbformat": 4,
 "nbformat_minor": 2
}
